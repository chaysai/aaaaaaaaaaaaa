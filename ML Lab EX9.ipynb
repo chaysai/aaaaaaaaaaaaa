{
 "cells": [
  {
   "cell_type": "code",
   "execution_count": 2,
   "metadata": {
    "_cell_guid": "b1076dfc-b9ad-4769-8c92-a6c4dae69d19",
    "_uuid": "8f2839f25d086af736a60e9eeb907d3b93b6e0e5",
    "execution": {
     "iopub.execute_input": "2020-11-24T15:33:44.617819Z",
     "iopub.status.busy": "2020-11-24T15:33:44.616734Z",
     "iopub.status.idle": "2020-11-24T15:33:48.545917Z",
     "shell.execute_reply": "2020-11-24T15:33:48.545192Z"
    },
    "papermill": {
     "duration": 3.947576,
     "end_time": "2020-11-24T15:33:48.546057",
     "exception": false,
     "start_time": "2020-11-24T15:33:44.598481",
     "status": "completed"
    },
    "tags": []
   },
   "outputs": [],
   "source": [
    "import numpy as np\n",
    "import pandas as pd\n",
    "from matplotlib import pyplot as plt"
   ]
  },
  {
   "cell_type": "code",
   "execution_count": 3,
   "metadata": {},
   "outputs": [],
   "source": [
    "df = pd.read_csv('mnist.csv')"
   ]
  },
  {
   "cell_type": "code",
   "execution_count": 16,
   "metadata": {
    "execution": {
     "iopub.execute_input": "2020-11-24T15:33:48.577955Z",
     "iopub.status.busy": "2020-11-24T15:33:48.576778Z",
     "iopub.status.idle": "2020-11-24T15:33:49.353469Z",
     "shell.execute_reply": "2020-11-24T15:33:49.352724Z"
    },
    "papermill": {
     "duration": 0.795759,
     "end_time": "2020-11-24T15:33:49.353603",
     "exception": false,
     "start_time": "2020-11-24T15:33:48.557844",
     "status": "completed"
    },
    "tags": []
   },
   "outputs": [
    {
     "name": "stdout",
     "output_type": "stream",
     "text": [
      "[[0 0 0 ... 0 0 0]\n",
      " [0 0 0 ... 0 0 0]\n",
      " [0 0 0 ... 0 0 0]\n",
      " ...\n",
      " [0 0 0 ... 0 0 0]\n",
      " [0 0 0 ... 0 0 0]\n",
      " [0 0 0 ... 0 0 0]]\n"
     ]
    }
   ],
   "source": [
    "df = np.array(df)\n",
    "m, n = df.shape\n",
    "np.random.shuffle(df)\n",
    "\n",
    "test_data = df[0:1000].T\n",
    "Y_test = test_data[0]\n",
    "X_test = test_data[1:n]\n",
    "X_test = X_test / 255.\n",
    "\n",
    "train_data = df[1000:m].T\n",
    "Y_train = train_data[0]\n",
    "X_train = train_data[1:n]\n",
    "X_train = X_train / 255.\n",
    "_,m_train = X_train.shape"
   ]
  },
  {
   "cell_type": "code",
   "execution_count": 4,
   "metadata": {
    "execution": {
     "iopub.execute_input": "2020-11-24T15:33:49.458553Z",
     "iopub.status.busy": "2020-11-24T15:33:49.457534Z",
     "iopub.status.idle": "2020-11-24T15:33:49.460243Z",
     "shell.execute_reply": "2020-11-24T15:33:49.460754Z"
    },
    "papermill": {
     "duration": 0.035762,
     "end_time": "2020-11-24T15:33:49.460906",
     "exception": false,
     "start_time": "2020-11-24T15:33:49.425144",
     "status": "completed"
    },
    "tags": []
   },
   "outputs": [],
   "source": [
    "def init_params():\n",
    "    W1 = np.random.rand(10, 784) - 0.5\n",
    "    b1 = np.random.rand(10, 1) - 0.5\n",
    "    W2 = np.random.rand(10, 10) - 0.5\n",
    "    b2 = np.random.rand(10, 1) - 0.5\n",
    "    return W1, b1, W2, b2\n",
    "\n",
    "def ReLU(Z):\n",
    "    return np.maximum(Z, 0)\n",
    "\n",
    "def softmax(Z):\n",
    "    A = np.exp(Z) / sum(np.exp(Z))\n",
    "    return A\n",
    "\n",
    "def forward_prop(W1, b1, W2, b2, X):\n",
    "    Z1 = W1.dot(X) + b1\n",
    "    A1 = ReLU(Z1)\n",
    "    Z2 = W2.dot(A1) + b2\n",
    "    A2 = softmax(Z2)\n",
    "    return Z1, A1, Z2, A2\n",
    "\n",
    "def ReLU_deriv(Z):\n",
    "    return Z > 0\n",
    "\n",
    "def one_hot(Y):\n",
    "    one_hot_Y = np.zeros((Y.size, Y.max() + 1))\n",
    "    one_hot_Y[np.arange(Y.size), Y] = 1\n",
    "    one_hot_Y = one_hot_Y.T\n",
    "    return one_hot_Y\n",
    "\n",
    "def backward_prop(Z1, A1, Z2, A2, W1, W2, X, Y):\n",
    "    one_hot_Y = one_hot(Y)\n",
    "    dZ2 = A2 - one_hot_Y\n",
    "    dW2 = 1 / m * dZ2.dot(A1.T)\n",
    "    db2 = 1 / m * np.sum(dZ2)\n",
    "    dZ1 = W2.T.dot(dZ2) * ReLU_deriv(Z1)\n",
    "    dW1 = 1 / m * dZ1.dot(X.T)\n",
    "    db1 = 1 / m * np.sum(dZ1)\n",
    "    return dW1, db1, dW2, db2\n",
    "\n",
    "def update_params(W1, b1, W2, b2, dW1, db1, dW2, db2, alpha):\n",
    "    W1 = W1 - alpha * dW1\n",
    "    b1 = b1 - alpha * db1\n",
    "    W2 = W2 - alpha * dW2\n",
    "    b2 = b2 - alpha * db2\n",
    "    return W1, b1, W2, b2"
   ]
  },
  {
   "cell_type": "code",
   "execution_count": 5,
   "metadata": {
    "execution": {
     "iopub.execute_input": "2020-11-24T15:33:49.496820Z",
     "iopub.status.busy": "2020-11-24T15:33:49.493109Z",
     "iopub.status.idle": "2020-11-24T15:33:49.499268Z",
     "shell.execute_reply": "2020-11-24T15:33:49.499782Z"
    },
    "papermill": {
     "duration": 0.026744,
     "end_time": "2020-11-24T15:33:49.499906",
     "exception": false,
     "start_time": "2020-11-24T15:33:49.473162",
     "status": "completed"
    },
    "tags": []
   },
   "outputs": [],
   "source": [
    "def get_predictions(A2):\n",
    "    return np.argmax(A2, 0)\n",
    "\n",
    "def get_accuracy(predictions, Y):\n",
    "    print(predictions, Y)\n",
    "    return np.sum(predictions == Y) / Y.size\n",
    "\n",
    "def gradient_descent(X, Y, alpha, iterations):\n",
    "    W1, b1, W2, b2 = init_params()\n",
    "    for i in range(iterations):\n",
    "        Z1, A1, Z2, A2 = forward_prop(W1, b1, W2, b2, X)\n",
    "        dW1, db1, dW2, db2 = backward_prop(Z1, A1, Z2, A2, W1, W2, X, Y)\n",
    "        W1, b1, W2, b2 = update_params(W1, b1, W2, b2, dW1, db1, dW2, db2, alpha)\n",
    "        if i % 10 == 0:\n",
    "            print(\"Iteration: \", i)\n",
    "            predictions = get_predictions(A2)\n",
    "            print(get_accuracy(predictions, Y))\n",
    "    return W1, b1, W2, b2"
   ]
  },
  {
   "cell_type": "code",
   "execution_count": 6,
   "metadata": {
    "execution": {
     "iopub.execute_input": "2020-11-24T15:33:49.529813Z",
     "iopub.status.busy": "2020-11-24T15:33:49.529067Z",
     "iopub.status.idle": "2020-11-24T15:34:33.915250Z",
     "shell.execute_reply": "2020-11-24T15:34:33.914598Z"
    },
    "papermill": {
     "duration": 44.403186,
     "end_time": "2020-11-24T15:34:33.915380",
     "exception": false,
     "start_time": "2020-11-24T15:33:49.512194",
     "status": "completed"
    },
    "tags": []
   },
   "outputs": [
    {
     "name": "stdout",
     "output_type": "stream",
     "text": [
      "Iteration:  0\n",
      "[0 0 5 ... 0 5 5] [7 5 6 ... 8 8 3]\n",
      "0.07651219512195122\n",
      "Iteration:  10\n",
      "[7 3 2 ... 3 4 9] [7 5 6 ... 8 8 3]\n",
      "0.21426829268292683\n",
      "Iteration:  20\n",
      "[7 3 2 ... 1 8 3] [7 5 6 ... 8 8 3]\n",
      "0.3132439024390244\n",
      "Iteration:  30\n",
      "[7 3 2 ... 8 8 3] [7 5 6 ... 8 8 3]\n",
      "0.3722682926829268\n",
      "Iteration:  40\n",
      "[7 8 2 ... 8 9 3] [7 5 6 ... 8 8 3]\n",
      "0.42334146341463413\n",
      "Iteration:  50\n",
      "[7 8 2 ... 8 9 3] [7 5 6 ... 8 8 3]\n",
      "0.4703414634146341\n",
      "Iteration:  60\n",
      "[7 8 2 ... 8 9 3] [7 5 6 ... 8 8 3]\n",
      "0.5096585365853659\n",
      "Iteration:  70\n",
      "[7 8 2 ... 8 9 3] [7 5 6 ... 8 8 3]\n",
      "0.5375609756097561\n",
      "Iteration:  80\n",
      "[7 8 2 ... 8 9 3] [7 5 6 ... 8 8 3]\n",
      "0.5621707317073171\n",
      "Iteration:  90\n",
      "[7 8 2 ... 8 9 3] [7 5 6 ... 8 8 3]\n",
      "0.5841463414634146\n",
      "Iteration:  100\n",
      "[7 8 2 ... 8 9 3] [7 5 6 ... 8 8 3]\n",
      "0.6091951219512195\n",
      "Iteration:  110\n",
      "[7 8 2 ... 8 9 3] [7 5 6 ... 8 8 3]\n",
      "0.6335853658536585\n",
      "Iteration:  120\n",
      "[7 8 2 ... 8 9 3] [7 5 6 ... 8 8 3]\n",
      "0.6565365853658537\n",
      "Iteration:  130\n",
      "[7 8 2 ... 8 9 3] [7 5 6 ... 8 8 3]\n",
      "0.674829268292683\n",
      "Iteration:  140\n",
      "[7 8 2 ... 8 9 3] [7 5 6 ... 8 8 3]\n",
      "0.6898536585365853\n",
      "Iteration:  150\n",
      "[7 8 2 ... 8 8 3] [7 5 6 ... 8 8 3]\n",
      "0.7033658536585365\n",
      "Iteration:  160\n",
      "[7 8 2 ... 8 8 3] [7 5 6 ... 8 8 3]\n",
      "0.7143658536585366\n",
      "Iteration:  170\n",
      "[7 8 2 ... 8 8 3] [7 5 6 ... 8 8 3]\n",
      "0.7252195121951219\n",
      "Iteration:  180\n",
      "[7 8 2 ... 8 8 3] [7 5 6 ... 8 8 3]\n",
      "0.7342682926829268\n",
      "Iteration:  190\n",
      "[7 8 2 ... 8 8 3] [7 5 6 ... 8 8 3]\n",
      "0.7432682926829268\n"
     ]
    }
   ],
   "source": [
    "W1, b1, W2, b2 = gradient_descent(X_train, Y_train, 0.10, 200)"
   ]
  },
  {
   "cell_type": "code",
   "execution_count": 7,
   "metadata": {
    "execution": {
     "iopub.execute_input": "2020-11-24T15:34:34.058947Z",
     "iopub.status.busy": "2020-11-24T15:34:34.058192Z",
     "iopub.status.idle": "2020-11-24T15:34:34.061542Z",
     "shell.execute_reply": "2020-11-24T15:34:34.060921Z"
    },
    "papermill": {
     "duration": 0.048197,
     "end_time": "2020-11-24T15:34:34.061656",
     "exception": false,
     "start_time": "2020-11-24T15:34:34.013459",
     "status": "completed"
    },
    "tags": []
   },
   "outputs": [],
   "source": [
    "def make_predictions(X, W1, b1, W2, b2):\n",
    "    _, _, _, A2 = forward_prop(W1, b1, W2, b2, X)\n",
    "    predictions = get_predictions(A2)\n",
    "    return predictions\n",
    "\n",
    "def test_prediction(index, W1, b1, W2, b2):\n",
    "    current_image = X_train[:, index, None]\n",
    "    prediction = make_predictions(X_train[:, index, None], W1, b1, W2, b2)\n",
    "    label = Y_train[index]\n",
    "    print(\"Prediction: \", prediction)\n",
    "    print(\"Label: \", label)\n",
    "\n",
    "    current_image = current_image.reshape((28, 28)) * 255\n",
    "    plt.gray()\n",
    "    plt.imshow(current_image, interpolation='nearest')\n",
    "    plt.show()"
   ]
  },
  {
   "cell_type": "code",
   "execution_count": 8,
   "metadata": {
    "execution": {
     "iopub.execute_input": "2020-11-24T15:34:34.198764Z",
     "iopub.status.busy": "2020-11-24T15:34:34.197926Z",
     "iopub.status.idle": "2020-11-24T15:34:34.858256Z",
     "shell.execute_reply": "2020-11-24T15:34:34.857536Z"
    },
    "papermill": {
     "duration": 0.699008,
     "end_time": "2020-11-24T15:34:34.858375",
     "exception": false,
     "start_time": "2020-11-24T15:34:34.159367",
     "status": "completed"
    },
    "tags": []
   },
   "outputs": [
    {
     "name": "stdout",
     "output_type": "stream",
     "text": [
      "Prediction:  [7]\n",
      "Label:  7\n"
     ]
    },
    {
     "data": {
      "image/png": "[encoded data removed]",
      "text/plain": [
       "<Figure size 640x480 with 1 Axes>"
      ]
     },
     "metadata": {},
     "output_type": "display_data"
    },
    {
     "name": "stdout",
     "output_type": "stream",
     "text": [
      "Prediction:  [8]\n",
      "Label:  5\n"
     ]
    },
    {
     "data": {
      "image/png": "[encoded data removed]",
      "text/plain": [
       "<Figure size 640x480 with 1 Axes>"
      ]
     },
     "metadata": {},
     "output_type": "display_data"
    },
    {
     "name": "stdout",
     "output_type": "stream",
     "text": [
      "Prediction:  [2]\n",
      "Label:  6\n"
     ]
    },
    {
     "data": {
      "image/png": "[encoded data removed]",
      "text/plain": [
       "<Figure size 640x480 with 1 Axes>"
      ]
     },
     "metadata": {},
     "output_type": "display_data"
    },
    {
     "name": "stdout",
     "output_type": "stream",
     "text": [
      "Prediction:  [9]\n",
      "Label:  9\n"
     ]
    },
    {
     "data": {
      "image/png": "[encoded data removed]",
      "text/plain": [
       "<Figure size 640x480 with 1 Axes>"
      ]
     },
     "metadata": {},
     "output_type": "display_data"
    }
   ],
   "source": [
    "test_prediction(0, W1, b1, W2, b2)\n",
    "test_prediction(1, W1, b1, W2, b2)\n",
    "test_prediction(2, W1, b1, W2, b2)\n",
    "test_prediction(3, W1, b1, W2, b2)"
   ]
  },
  {
   "cell_type": "code",
   "execution_count": 9,
   "metadata": {
    "execution": {
     "iopub.execute_input": "2020-11-24T15:34:35.013161Z",
     "iopub.status.busy": "2020-11-24T15:34:35.012371Z",
     "iopub.status.idle": "2020-11-24T15:34:35.033284Z",
     "shell.execute_reply": "2020-11-24T15:34:35.032394Z"
    },
    "papermill": {
     "duration": 0.062985,
     "end_time": "2020-11-24T15:34:35.033457",
     "exception": false,
     "start_time": "2020-11-24T15:34:34.970472",
     "status": "completed"
    },
    "tags": []
   },
   "outputs": [
    {
     "name": "stdout",
     "output_type": "stream",
     "text": [
      "[2 6 3 8 6 6 7 1 7 8 3 6 3 2 8 8 7 3 7 7 8 7 3 0 7 1 7 1 3 7 0 8 7 4 6 6 2\n",
      " 1 9 8 9 5 2 8 5 7 0 8 6 9 3 1 2 9 6 7 7 9 4 3 5 5 3 2 7 8 2 2 8 6 3 7 1 4\n",
      " 8 4 4 4 4 6 4 3 0 9 6 7 3 6 6 8 0 8 1 9 4 3 8 6 4 4 8 9 1 2 3 4 0 3 4 1 4\n",
      " 6 1 6 3 0 7 1 3 9 0 8 3 1 4 1 3 4 4 8 6 9 2 9 8 1 7 1 6 6 3 2 1 1 0 3 9 4\n",
      " 9 4 8 6 1 1 8 4 7 0 6 8 4 6 3 2 1 9 4 0 9 6 6 3 4 0 8 4 4 5 7 8 3 1 4 2 9\n",
      " 3 2 5 2 5 7 1 6 3 5 1 2 8 6 5 1 8 1 3 1 7 1 4 3 4 8 8 1 8 0 4 1 1 4 8 2 2\n",
      " 8 5 2 3 7 4 8 8 3 4 9 5 1 0 5 1 1 1 9 9 2 4 6 1 8 4 0 2 3 3 6 0 6 6 4 2 8\n",
      " 2 0 2 0 3 9 3 6 0 7 9 4 3 3 8 7 7 0 7 4 1 7 7 0 9 6 3 2 0 1 0 6 7 9 7 6 3\n",
      " 5 0 1 5 8 1 9 9 5 7 0 9 6 3 5 2 1 9 9 2 1 4 6 1 1 7 2 1 5 0 1 5 7 1 4 0 0\n",
      " 5 7 9 5 7 3 1 5 3 7 3 3 9 8 7 2 1 3 4 9 1 2 0 3 1 4 2 8 1 5 4 1 9 4 0 1 1\n",
      " 0 9 3 1 9 2 1 9 6 4 3 8 6 3 3 2 9 7 7 2 1 7 4 4 6 7 9 6 1 9 6 2 1 6 3 8 2\n",
      " 7 9 8 5 4 3 2 7 7 0 0 2 8 8 8 3 1 5 4 9 5 8 7 8 9 2 9 4 1 0 0 4 6 9 0 3 6\n",
      " 3 5 5 1 1 8 8 0 8 0 9 2 9 9 3 6 6 7 0 9 0 3 0 0 9 5 9 7 7 4 0 2 5 3 7 8 7\n",
      " 4 6 9 0 8 2 5 0 4 2 3 0 1 6 8 9 0 2 6 6 2 7 1 0 2 9 0 4 8 0 9 0 8 9 7 5 3\n",
      " 1 6 3 4 9 1 0 9 0 7 1 4 7 3 7 3 0 8 7 9 7 1 9 3 4 4 7 1 3 1 4 9 0 2 3 1 1\n",
      " 9 1 1 2 8 5 3 7 7 1 4 0 9 9 1 0 8 4 9 4 1 2 1 6 0 1 1 8 8 8 0 4 3 0 9 9 6\n",
      " 3 9 4 2 7 1 7 2 6 7 9 2 6 3 7 6 0 7 2 8 9 2 3 4 1 0 6 1 2 2 3 8 0 3 8 4 8\n",
      " 7 1 1 1 1 1 6 2 2 1 1 9 6 8 3 1 1 6 1 5 3 3 4 8 3 6 1 4 5 8 6 2 7 7 0 3 5\n",
      " 4 1 6 0 0 9 6 9 2 4 8 4 4 9 7 8 8 3 3 0 7 2 3 8 0 5 3 9 8 4 1 4 4 0 0 7 3\n",
      " 4 1 1 8 9 1 6 2 6 8 9 4 5 9 5 6 4 5 6 2 2 6 1 6 0 9 1 3 3 0 2 7 1 8 4 1 8\n",
      " 0 2 2 3 6 0 3 5 4 9 2 4 5 8 8 0 7 3 0 6 3 8 7 0 8 1 8 8 3 2 1 9 8 7 1 5 2\n",
      " 2 1 4 2 5 8 0 9 3 8 8 4 8 0 9 1 6 7 4 2 7 9 7 3 3 1 2 0 2 8 6 3 0 3 6 0 0\n",
      " 3 3 1 0 7 6 0 1 3 9 3 0 7 2 0 8 7 8 4 6 1 8 1 7 6 8 8 0 2 6 8 4 7 7 5 8 3\n",
      " 9 8 4 6 7 1 4 6 4 8 8 6 7 7 0 2 5 1 8 9 4 3 8 4 7 4 3 9 9 2 2 3 1 2 9 3 4\n",
      " 9 4 0 6 1 8 8 8 1 5 0 6 7 1 1 6 0 3 8 0 2 9 9 3 6 7 9 3 4 2 4 8 5 4 1 7 1\n",
      " 6 3 0 3 0 4 1 5 6 3 3 6 8 3 6 1 2 0 0 6 5 0 0 5 3 2 2 7 1 3 1 7 7 3 6 2 3\n",
      " 1 2 9 6 5 7 9 8 8 0 8 2 7 4 0 4 5 7 9 0 5 4 4 7 3 2 6 2 9 8 1 5 1 4 4 1 1\n",
      " 2] [2 6 3 8 6 6 9 1 7 8 3 6 5 2 8 8 7 2 5 7 5 7 3 0 7 1 7 8 3 7 6 1 7 2 6 6 2\n",
      " 1 9 8 9 8 2 5 5 7 0 5 6 8 3 3 2 9 6 7 7 9 4 2 5 5 3 2 7 8 3 2 8 6 3 9 1 4\n",
      " 5 4 4 4 4 6 4 7 0 3 6 7 8 6 6 8 0 8 1 9 4 3 8 2 4 4 8 9 1 4 3 4 0 3 4 4 4\n",
      " 6 1 6 3 0 7 1 7 4 2 5 5 1 4 8 2 4 4 8 6 9 2 4 5 1 2 1 3 6 3 2 1 8 0 8 9 4\n",
      " 7 4 5 6 1 1 5 4 7 0 6 2 4 6 5 2 1 7 4 0 9 6 3 5 4 0 4 4 4 5 7 4 3 1 5 2 4\n",
      " 5 2 1 2 3 8 1 6 3 5 1 2 8 6 8 1 3 1 3 1 0 1 4 3 4 8 8 1 9 0 4 1 1 4 9 2 2\n",
      " 2 5 2 3 7 4 8 8 3 4 9 1 1 0 5 1 1 8 9 9 0 4 2 1 8 2 5 2 3 5 6 0 6 6 4 2 8\n",
      " 2 0 2 0 0 4 3 5 0 7 8 4 3 3 5 7 9 0 7 4 1 7 7 0 7 6 5 2 0 1 0 6 7 7 7 6 3\n",
      " 4 0 1 5 5 1 7 9 5 7 0 9 6 5 5 2 1 3 9 7 1 5 6 8 1 7 2 1 3 0 1 5 7 8 4 9 0\n",
      " 5 7 9 5 3 3 1 8 3 9 8 5 9 8 1 2 1 3 4 9 1 2 0 5 1 4 2 8 1 8 4 1 9 4 0 1 1\n",
      " 0 9 9 1 9 2 1 9 6 4 3 8 6 3 5 2 9 9 7 2 1 7 9 4 6 7 9 6 1 9 6 2 1 6 5 8 2\n",
      " 5 9 8 8 9 3 2 7 7 0 0 2 3 1 5 3 3 5 4 9 3 5 7 8 9 2 9 4 3 0 0 9 6 9 0 3 6\n",
      " 3 5 5 1 1 3 8 0 5 8 9 2 4 9 2 6 2 7 0 4 0 3 0 0 9 8 9 7 7 4 0 3 8 3 7 8 5\n",
      " 4 6 5 0 8 2 5 0 4 2 3 6 1 6 3 4 6 2 6 6 2 7 1 5 2 9 0 9 5 0 4 2 5 9 7 4 5\n",
      " 1 6 3 2 7 1 0 9 5 7 1 4 7 3 7 3 0 8 7 4 7 1 9 3 4 4 7 1 3 1 4 9 0 2 3 1 1\n",
      " 9 1 1 2 8 5 3 7 4 1 4 0 9 9 1 0 8 9 9 4 1 2 2 6 0 1 1 5 8 8 0 4 3 0 9 5 6\n",
      " 3 4 4 6 7 1 7 2 5 7 9 9 6 3 9 6 0 7 2 1 9 8 3 4 1 0 6 1 2 2 3 8 4 8 4 4 0\n",
      " 7 1 1 1 1 1 6 2 2 1 1 9 6 8 3 7 1 6 1 5 3 8 4 8 3 6 3 9 5 8 6 3 7 2 0 3 5\n",
      " 4 1 6 5 0 9 6 4 6 4 8 4 4 3 7 8 5 8 7 0 9 2 3 8 0 5 3 9 8 4 8 4 4 0 0 7 3\n",
      " 4 1 1 8 7 1 6 2 6 8 9 4 5 9 5 6 4 5 6 2 6 6 1 6 0 9 1 1 7 9 2 7 1 4 4 1 4\n",
      " 6 5 2 3 6 0 3 5 4 9 2 4 1 8 7 0 7 3 0 6 3 8 7 9 8 1 8 3 3 2 1 9 8 7 1 8 2\n",
      " 2 1 4 2 5 8 0 9 5 8 3 9 3 0 9 1 2 7 9 0 7 9 7 3 3 1 2 0 3 5 6 5 0 3 6 0 0\n",
      " 8 3 1 0 7 6 0 2 3 9 3 0 7 3 0 8 9 8 4 6 1 8 6 7 6 9 3 0 3 6 5 4 7 7 5 8 2\n",
      " 9 8 5 6 7 1 9 6 4 8 0 8 7 7 0 2 1 1 8 9 4 5 3 4 5 9 5 4 9 6 3 3 1 2 9 3 4\n",
      " 9 9 0 5 1 8 8 8 1 3 0 6 7 1 5 6 7 3 4 0 2 9 9 3 6 7 9 3 4 2 5 8 5 6 1 2 1\n",
      " 6 3 0 3 0 4 2 5 6 3 3 6 8 3 6 1 2 0 0 6 5 0 0 5 2 6 2 7 1 9 1 9 7 3 6 2 3\n",
      " 1 2 9 6 5 4 9 2 8 0 8 2 7 4 0 9 8 7 9 0 5 4 4 7 3 2 1 5 9 8 1 5 1 4 4 1 1\n",
      " 5]\n",
      "Accuracy:  0.763\n"
     ]
    }
   ],
   "source": [
    "dev_predictions = make_predictions(X_test, W1, b1, W2, b2)\n",
    "print(\"Accuracy: \", get_accuracy(dev_predictions, Y_test))"
   ]
  },
  {
   "cell_type": "markdown",
   "metadata": {},
   "source": [
    "# Keras"
   ]
  },
  {
   "cell_type": "code",
   "execution_count": 10,
   "metadata": {},
   "outputs": [],
   "source": [
    "import numpy as np\n",
    "import matplotlib.pyplot as plt\n",
    "from keras.datasets import mnist\n",
    "from keras.models import Sequential\n",
    "from keras.layers import Dense, Dropout, Activation\n",
    "from tensorflow.keras.utils import to_categorical"
   ]
  },
  {
   "cell_type": "code",
   "execution_count": 11,
   "metadata": {},
   "outputs": [],
   "source": [
    "nb_classes = 10"
   ]
  },
  {
   "cell_type": "code",
   "execution_count": 12,
   "metadata": {},
   "outputs": [
    {
     "name": "stdout",
     "output_type": "stream",
     "text": [
      "X_train original shape (60000, 28, 28)\n",
      "y_train original shape (60000,)\n"
     ]
    }
   ],
   "source": [
    "(X_train, y_train), (X_test, y_test) = mnist.load_data()\n",
    "print(\"X_train original shape\", X_train.shape)\n",
    "print(\"y_train original shape\", y_train.shape)"
   ]
  },
  {
   "cell_type": "code",
   "execution_count": 13,
   "metadata": {},
   "outputs": [
    {
     "name": "stdout",
     "output_type": "stream",
     "text": [
      "Training matrix shape (60000, 784)\n",
      "Testing matrix shape (10000, 784)\n"
     ]
    }
   ],
   "source": [
    "X_train = X_train.reshape(60000, 784)\n",
    "X_train = X_train.astype('float32')\n",
    "X_train /= 255\n",
    "print(\"Training matrix shape\", X_train.shape)\n",
    "\n",
    "X_test = X_test.reshape(10000, 784)\n",
    "X_test = X_test.astype('float32')\n",
    "X_test /= 255\n",
    "print(\"Testing matrix shape\", X_test.shape)"
   ]
  },
  {
   "cell_type": "code",
   "execution_count": 14,
   "metadata": {},
   "outputs": [],
   "source": [
    "Y_train = to_categorical(y_train, nb_classes)\n",
    "Y_test = to_categorical(y_test, nb_classes)"
   ]
  },
  {
   "cell_type": "code",
   "execution_count": 15,
   "metadata": {},
   "outputs": [
    {
     "name": "stderr",
     "output_type": "stream",
     "text": [
      "2024-04-02 15:01:51.633131: I metal_plugin/src/device/metal_device.cc:1154] Metal device set to: Apple M1\n",
      "2024-04-02 15:01:51.633154: I metal_plugin/src/device/metal_device.cc:296] systemMemory: 8.00 GB\n",
      "2024-04-02 15:01:51.633158: I metal_plugin/src/device/metal_device.cc:313] maxCacheSize: 2.67 GB\n",
      "2024-04-02 15:01:51.633225: I tensorflow/core/common_runtime/pluggable_device/pluggable_device_factory.cc:303] Could not identify NUMA node of platform GPU ID 0, defaulting to 0. Your kernel may not have been built with NUMA support.\n",
      "2024-04-02 15:01:51.633259: I tensorflow/core/common_runtime/pluggable_device/pluggable_device_factory.cc:269] Created TensorFlow device (/job:localhost/replica:0/task:0/device:GPU:0 with 0 MB memory) -> physical PluggableDevice (device: 0, name: METAL, pci bus id: <undefined>)\n"
     ]
    }
   ],
   "source": [
    "model = Sequential()\n",
    "model.add(Dense(512, input_shape=(784,)))\n",
    "model.add(Activation('relu'))\n",
    "model.add(Dropout(0.2))\n",
    "model.add(Dense(512))\n",
    "model.add(Activation('relu'))\n",
    "model.add(Dropout(0.2))\n",
    "model.add(Dense(10))\n",
    "model.add(Activation('softmax'))"
   ]
  },
  {
   "cell_type": "code",
   "execution_count": 16,
   "metadata": {},
   "outputs": [],
   "source": [
    "model.compile(loss = 'categorical_crossentropy', optimizer = 'adam', metrics=['accuracy'])"
   ]
  },
  {
   "cell_type": "code",
   "execution_count": 17,
   "metadata": {},
   "outputs": [
    {
     "name": "stdout",
     "output_type": "stream",
     "text": [
      "Epoch 1/200\n"
     ]
    },
    {
     "name": "stderr",
     "output_type": "stream",
     "text": [
      "2024-04-02 15:01:52.121797: I tensorflow/core/grappler/optimizers/custom_graph_optimizer_registry.cc:114] Plugin optimizer for device_type GPU is enabled.\n",
      "2024-04-02 15:01:52.142744: E tensorflow/core/grappler/optimizers/meta_optimizer.cc:954] PluggableGraphOptimizer failed: INVALID_ARGUMENT: Unparseable tensorflow.GraphDef proto\n",
      "2024-04-02 15:01:52.151713: E tensorflow/core/grappler/optimizers/meta_optimizer.cc:954] PluggableGraphOptimizer failed: INVALID_ARGUMENT: Unparseable tensorflow.GraphDef proto\n"
     ]
    },
    {
     "name": "stdout",
     "output_type": "stream",
     "text": [
      "469/469 [==============================] - ETA: 0s - loss: 0.2460 - accuracy: 0.9255"
     ]
    },
    {
     "name": "stderr",
     "output_type": "stream",
     "text": [
      "2024-04-02 15:01:56.838893: I tensorflow/core/grappler/optimizers/custom_graph_optimizer_registry.cc:114] Plugin optimizer for device_type GPU is enabled.\n",
      "2024-04-02 15:01:56.847665: E tensorflow/core/grappler/optimizers/meta_optimizer.cc:954] PluggableGraphOptimizer failed: INVALID_ARGUMENT: Unparseable tensorflow.GraphDef proto\n",
      "2024-04-02 15:01:56.851771: E tensorflow/core/grappler/optimizers/meta_optimizer.cc:954] PluggableGraphOptimizer failed: INVALID_ARGUMENT: Unparseable tensorflow.GraphDef proto\n"
     ]
    },
    {
     "name": "stdout",
     "output_type": "stream",
     "text": [
      "469/469 [==============================] - 5s 10ms/step - loss: 0.2460 - accuracy: 0.9255 - val_loss: 0.1078 - val_accuracy: 0.9675\n",
      "Epoch 2/200\n",
      "469/469 [==============================] - 5s 10ms/step - loss: 0.0978 - accuracy: 0.9693 - val_loss: 0.0754 - val_accuracy: 0.9759\n",
      "Epoch 3/200\n",
      "469/469 [==============================] - 5s 10ms/step - loss: 0.0679 - accuracy: 0.9787 - val_loss: 0.0710 - val_accuracy: 0.9768\n",
      "Epoch 4/200\n",
      "469/469 [==============================] - 5s 10ms/step - loss: 0.0530 - accuracy: 0.9828 - val_loss: 0.0791 - val_accuracy: 0.9762\n",
      "Epoch 5/200\n",
      "469/469 [==============================] - 5s 10ms/step - loss: 0.0447 - accuracy: 0.9853 - val_loss: 0.0665 - val_accuracy: 0.9794\n",
      "Epoch 6/200\n",
      "469/469 [==============================] - 5s 10ms/step - loss: 0.0333 - accuracy: 0.9890 - val_loss: 0.0741 - val_accuracy: 0.9779\n",
      "Epoch 7/200\n",
      "469/469 [==============================] - 5s 10ms/step - loss: 0.0355 - accuracy: 0.9884 - val_loss: 0.0749 - val_accuracy: 0.9782\n",
      "Epoch 8/200\n",
      "469/469 [==============================] - 5s 10ms/step - loss: 0.0305 - accuracy: 0.9901 - val_loss: 0.0685 - val_accuracy: 0.9815\n",
      "Epoch 9/200\n",
      "469/469 [==============================] - 5s 10ms/step - loss: 0.0236 - accuracy: 0.9919 - val_loss: 0.0788 - val_accuracy: 0.9805\n",
      "Epoch 10/200\n",
      "469/469 [==============================] - 5s 10ms/step - loss: 0.0248 - accuracy: 0.9914 - val_loss: 0.0731 - val_accuracy: 0.9816\n",
      "Epoch 11/200\n",
      "469/469 [==============================] - 5s 10ms/step - loss: 0.0237 - accuracy: 0.9918 - val_loss: 0.0686 - val_accuracy: 0.9833\n",
      "Epoch 12/200\n",
      "469/469 [==============================] - 5s 10ms/step - loss: 0.0214 - accuracy: 0.9927 - val_loss: 0.0863 - val_accuracy: 0.9793\n",
      "Epoch 13/200\n",
      "469/469 [==============================] - 5s 10ms/step - loss: 0.0177 - accuracy: 0.9942 - val_loss: 0.0736 - val_accuracy: 0.9834\n",
      "Epoch 14/200\n",
      "469/469 [==============================] - 5s 10ms/step - loss: 0.0164 - accuracy: 0.9943 - val_loss: 0.0793 - val_accuracy: 0.9830\n",
      "Epoch 15/200\n",
      "469/469 [==============================] - 5s 10ms/step - loss: 0.0189 - accuracy: 0.9934 - val_loss: 0.0924 - val_accuracy: 0.9797\n",
      "Epoch 16/200\n",
      "469/469 [==============================] - 5s 10ms/step - loss: 0.0171 - accuracy: 0.9946 - val_loss: 0.0768 - val_accuracy: 0.9840\n",
      "Epoch 17/200\n",
      "469/469 [==============================] - 5s 10ms/step - loss: 0.0141 - accuracy: 0.9952 - val_loss: 0.0848 - val_accuracy: 0.9821\n",
      "Epoch 18/200\n",
      "469/469 [==============================] - 5s 11ms/step - loss: 0.0129 - accuracy: 0.9957 - val_loss: 0.0808 - val_accuracy: 0.9831\n",
      "Epoch 19/200\n",
      "469/469 [==============================] - 5s 10ms/step - loss: 0.0153 - accuracy: 0.9948 - val_loss: 0.1047 - val_accuracy: 0.9793\n",
      "Epoch 20/200\n",
      "469/469 [==============================] - 5s 11ms/step - loss: 0.0181 - accuracy: 0.9941 - val_loss: 0.0810 - val_accuracy: 0.9831\n",
      "Epoch 21/200\n",
      "469/469 [==============================] - 5s 10ms/step - loss: 0.0126 - accuracy: 0.9963 - val_loss: 0.0805 - val_accuracy: 0.9829\n",
      "Epoch 22/200\n",
      "469/469 [==============================] - 5s 10ms/step - loss: 0.0134 - accuracy: 0.9955 - val_loss: 0.0811 - val_accuracy: 0.9844\n",
      "Epoch 23/200\n",
      "469/469 [==============================] - 5s 10ms/step - loss: 0.0122 - accuracy: 0.9960 - val_loss: 0.0803 - val_accuracy: 0.9833\n",
      "Epoch 24/200\n",
      "469/469 [==============================] - 5s 10ms/step - loss: 0.0125 - accuracy: 0.9960 - val_loss: 0.0835 - val_accuracy: 0.9830\n",
      "Epoch 25/200\n",
      "469/469 [==============================] - 5s 10ms/step - loss: 0.0133 - accuracy: 0.9958 - val_loss: 0.0863 - val_accuracy: 0.9828\n",
      "Epoch 26/200\n",
      "469/469 [==============================] - 5s 10ms/step - loss: 0.0106 - accuracy: 0.9962 - val_loss: 0.0865 - val_accuracy: 0.9852\n",
      "Epoch 27/200\n",
      "469/469 [==============================] - 5s 10ms/step - loss: 0.0145 - accuracy: 0.9954 - val_loss: 0.0853 - val_accuracy: 0.9842\n",
      "Epoch 28/200\n",
      "469/469 [==============================] - 5s 10ms/step - loss: 0.0115 - accuracy: 0.9962 - val_loss: 0.0964 - val_accuracy: 0.9838\n",
      "Epoch 29/200\n",
      "469/469 [==============================] - 5s 11ms/step - loss: 0.0093 - accuracy: 0.9973 - val_loss: 0.0951 - val_accuracy: 0.9839\n",
      "Epoch 30/200\n",
      "469/469 [==============================] - 5s 10ms/step - loss: 0.0114 - accuracy: 0.9965 - val_loss: 0.0889 - val_accuracy: 0.9852\n",
      "Epoch 31/200\n",
      "469/469 [==============================] - 5s 10ms/step - loss: 0.0088 - accuracy: 0.9971 - val_loss: 0.0918 - val_accuracy: 0.9811\n",
      "Epoch 32/200\n",
      "469/469 [==============================] - 5s 10ms/step - loss: 0.0128 - accuracy: 0.9964 - val_loss: 0.1007 - val_accuracy: 0.9817\n",
      "Epoch 33/200\n",
      "469/469 [==============================] - 5s 10ms/step - loss: 0.0090 - accuracy: 0.9972 - val_loss: 0.1106 - val_accuracy: 0.9819\n",
      "Epoch 34/200\n",
      "469/469 [==============================] - 5s 10ms/step - loss: 0.0137 - accuracy: 0.9959 - val_loss: 0.1025 - val_accuracy: 0.9844\n",
      "Epoch 35/200\n",
      "469/469 [==============================] - 5s 10ms/step - loss: 0.0069 - accuracy: 0.9977 - val_loss: 0.1011 - val_accuracy: 0.9845\n",
      "Epoch 36/200\n",
      "469/469 [==============================] - 5s 10ms/step - loss: 0.0063 - accuracy: 0.9978 - val_loss: 0.1106 - val_accuracy: 0.9833\n",
      "Epoch 37/200\n",
      "469/469 [==============================] - 5s 10ms/step - loss: 0.0120 - accuracy: 0.9969 - val_loss: 0.1053 - val_accuracy: 0.9824\n",
      "Epoch 38/200\n",
      "469/469 [==============================] - 5s 10ms/step - loss: 0.0082 - accuracy: 0.9974 - val_loss: 0.0988 - val_accuracy: 0.9828\n",
      "Epoch 39/200\n",
      "469/469 [==============================] - 5s 10ms/step - loss: 0.0074 - accuracy: 0.9977 - val_loss: 0.1250 - val_accuracy: 0.9803\n",
      "Epoch 40/200\n",
      "469/469 [==============================] - 5s 10ms/step - loss: 0.0157 - accuracy: 0.9954 - val_loss: 0.1155 - val_accuracy: 0.9814\n",
      "Epoch 41/200\n",
      "469/469 [==============================] - 5s 10ms/step - loss: 0.0095 - accuracy: 0.9972 - val_loss: 0.0995 - val_accuracy: 0.9848\n",
      "Epoch 42/200\n",
      "469/469 [==============================] - 5s 10ms/step - loss: 0.0079 - accuracy: 0.9976 - val_loss: 0.0917 - val_accuracy: 0.9864\n",
      "Epoch 43/200\n",
      "469/469 [==============================] - 5s 11ms/step - loss: 0.0090 - accuracy: 0.9975 - val_loss: 0.1172 - val_accuracy: 0.9839\n",
      "Epoch 44/200\n",
      "469/469 [==============================] - 5s 11ms/step - loss: 0.0107 - accuracy: 0.9968 - val_loss: 0.1223 - val_accuracy: 0.9824\n",
      "Epoch 45/200\n",
      "469/469 [==============================] - 5s 11ms/step - loss: 0.0083 - accuracy: 0.9972 - val_loss: 0.1227 - val_accuracy: 0.9832\n",
      "Epoch 46/200\n",
      "469/469 [==============================] - 5s 10ms/step - loss: 0.0100 - accuracy: 0.9972 - val_loss: 0.1078 - val_accuracy: 0.9842\n",
      "Epoch 47/200\n",
      "469/469 [==============================] - 5s 10ms/step - loss: 0.0070 - accuracy: 0.9978 - val_loss: 0.1271 - val_accuracy: 0.9835\n",
      "Epoch 48/200\n",
      "469/469 [==============================] - 5s 10ms/step - loss: 0.0079 - accuracy: 0.9978 - val_loss: 0.1075 - val_accuracy: 0.9847\n",
      "Epoch 49/200\n",
      "469/469 [==============================] - 5s 10ms/step - loss: 0.0132 - accuracy: 0.9966 - val_loss: 0.1178 - val_accuracy: 0.9830\n",
      "Epoch 50/200\n",
      "469/469 [==============================] - 5s 10ms/step - loss: 0.0081 - accuracy: 0.9976 - val_loss: 0.1252 - val_accuracy: 0.9813\n",
      "Epoch 51/200\n",
      "469/469 [==============================] - 5s 10ms/step - loss: 0.0090 - accuracy: 0.9975 - val_loss: 0.1252 - val_accuracy: 0.9836\n",
      "Epoch 52/200\n",
      "469/469 [==============================] - 5s 10ms/step - loss: 0.0080 - accuracy: 0.9977 - val_loss: 0.1421 - val_accuracy: 0.9828\n",
      "Epoch 53/200\n",
      "469/469 [==============================] - 5s 10ms/step - loss: 0.0092 - accuracy: 0.9976 - val_loss: 0.1180 - val_accuracy: 0.9827\n",
      "Epoch 54/200\n",
      "469/469 [==============================] - 5s 10ms/step - loss: 0.0079 - accuracy: 0.9977 - val_loss: 0.1323 - val_accuracy: 0.9828\n",
      "Epoch 55/200\n",
      "469/469 [==============================] - 5s 10ms/step - loss: 0.0084 - accuracy: 0.9977 - val_loss: 0.1288 - val_accuracy: 0.9835\n",
      "Epoch 56/200\n",
      "469/469 [==============================] - 5s 10ms/step - loss: 0.0079 - accuracy: 0.9979 - val_loss: 0.1258 - val_accuracy: 0.9841\n",
      "Epoch 57/200\n",
      "469/469 [==============================] - 5s 10ms/step - loss: 0.0083 - accuracy: 0.9977 - val_loss: 0.1107 - val_accuracy: 0.9844\n",
      "Epoch 58/200\n",
      "469/469 [==============================] - 5s 10ms/step - loss: 0.0067 - accuracy: 0.9982 - val_loss: 0.1340 - val_accuracy: 0.9836\n",
      "Epoch 59/200\n",
      "469/469 [==============================] - 5s 10ms/step - loss: 0.0093 - accuracy: 0.9977 - val_loss: 0.1385 - val_accuracy: 0.9836\n",
      "Epoch 60/200\n",
      "469/469 [==============================] - 5s 10ms/step - loss: 0.0087 - accuracy: 0.9978 - val_loss: 0.1330 - val_accuracy: 0.9848\n",
      "Epoch 61/200\n",
      "469/469 [==============================] - 5s 10ms/step - loss: 0.0089 - accuracy: 0.9978 - val_loss: 0.1274 - val_accuracy: 0.9849\n",
      "Epoch 62/200\n",
      "469/469 [==============================] - 5s 10ms/step - loss: 0.0070 - accuracy: 0.9979 - val_loss: 0.1536 - val_accuracy: 0.9829\n",
      "Epoch 63/200\n",
      "469/469 [==============================] - 5s 10ms/step - loss: 0.0060 - accuracy: 0.9983 - val_loss: 0.1534 - val_accuracy: 0.9822\n",
      "Epoch 64/200\n",
      "469/469 [==============================] - 5s 10ms/step - loss: 0.0102 - accuracy: 0.9975 - val_loss: 0.1369 - val_accuracy: 0.9831\n",
      "Epoch 65/200\n",
      "469/469 [==============================] - 5s 10ms/step - loss: 0.0082 - accuracy: 0.9979 - val_loss: 0.1269 - val_accuracy: 0.9845\n",
      "Epoch 66/200\n",
      "469/469 [==============================] - 5s 10ms/step - loss: 0.0082 - accuracy: 0.9978 - val_loss: 0.1518 - val_accuracy: 0.9834\n",
      "Epoch 67/200\n",
      "469/469 [==============================] - 5s 10ms/step - loss: 0.0107 - accuracy: 0.9972 - val_loss: 0.1255 - val_accuracy: 0.9855\n",
      "Epoch 68/200\n",
      "469/469 [==============================] - 5s 10ms/step - loss: 0.0067 - accuracy: 0.9980 - val_loss: 0.1187 - val_accuracy: 0.9853\n",
      "Epoch 69/200\n",
      "469/469 [==============================] - 5s 10ms/step - loss: 0.0073 - accuracy: 0.9980 - val_loss: 0.1250 - val_accuracy: 0.9853\n",
      "Epoch 70/200\n",
      "469/469 [==============================] - 5s 10ms/step - loss: 0.0079 - accuracy: 0.9981 - val_loss: 0.1356 - val_accuracy: 0.9857\n",
      "Epoch 71/200\n",
      "469/469 [==============================] - 5s 11ms/step - loss: 0.0070 - accuracy: 0.9981 - val_loss: 0.1282 - val_accuracy: 0.9864\n",
      "Epoch 72/200\n",
      "469/469 [==============================] - 5s 10ms/step - loss: 0.0061 - accuracy: 0.9983 - val_loss: 0.1362 - val_accuracy: 0.9838\n",
      "Epoch 73/200\n",
      "469/469 [==============================] - 5s 10ms/step - loss: 0.0073 - accuracy: 0.9981 - val_loss: 0.1323 - val_accuracy: 0.9865\n",
      "Epoch 74/200\n",
      "469/469 [==============================] - 5s 10ms/step - loss: 0.0073 - accuracy: 0.9981 - val_loss: 0.1507 - val_accuracy: 0.9827\n",
      "Epoch 75/200\n",
      "469/469 [==============================] - 5s 10ms/step - loss: 0.0085 - accuracy: 0.9977 - val_loss: 0.1456 - val_accuracy: 0.9839\n",
      "Epoch 76/200\n",
      "469/469 [==============================] - 5s 10ms/step - loss: 0.0091 - accuracy: 0.9981 - val_loss: 0.1536 - val_accuracy: 0.9826\n",
      "Epoch 77/200\n",
      "469/469 [==============================] - 5s 10ms/step - loss: 0.0081 - accuracy: 0.9981 - val_loss: 0.1595 - val_accuracy: 0.9847\n",
      "Epoch 78/200\n",
      "469/469 [==============================] - 5s 10ms/step - loss: 0.0076 - accuracy: 0.9981 - val_loss: 0.1491 - val_accuracy: 0.9859\n",
      "Epoch 79/200\n",
      "469/469 [==============================] - 5s 10ms/step - loss: 0.0078 - accuracy: 0.9981 - val_loss: 0.1546 - val_accuracy: 0.9841\n",
      "Epoch 80/200\n",
      "469/469 [==============================] - 5s 10ms/step - loss: 0.0066 - accuracy: 0.9984 - val_loss: 0.1571 - val_accuracy: 0.9847\n",
      "Epoch 81/200\n",
      "469/469 [==============================] - 5s 10ms/step - loss: 0.0060 - accuracy: 0.9984 - val_loss: 0.1418 - val_accuracy: 0.9850\n",
      "Epoch 82/200\n",
      "469/469 [==============================] - 5s 10ms/step - loss: 0.0068 - accuracy: 0.9982 - val_loss: 0.1616 - val_accuracy: 0.9850\n",
      "Epoch 83/200\n",
      "469/469 [==============================] - 5s 10ms/step - loss: 0.0049 - accuracy: 0.9987 - val_loss: 0.1556 - val_accuracy: 0.9849\n",
      "Epoch 84/200\n",
      "469/469 [==============================] - 5s 10ms/step - loss: 0.0079 - accuracy: 0.9981 - val_loss: 0.1593 - val_accuracy: 0.9839\n",
      "Epoch 85/200\n",
      "469/469 [==============================] - 5s 10ms/step - loss: 0.0072 - accuracy: 0.9982 - val_loss: 0.1520 - val_accuracy: 0.9825\n",
      "Epoch 86/200\n",
      "469/469 [==============================] - 5s 10ms/step - loss: 0.0084 - accuracy: 0.9980 - val_loss: 0.1606 - val_accuracy: 0.9818\n",
      "Epoch 87/200\n",
      "469/469 [==============================] - 5s 10ms/step - loss: 0.0051 - accuracy: 0.9985 - val_loss: 0.1558 - val_accuracy: 0.9840\n",
      "Epoch 88/200\n",
      "469/469 [==============================] - 5s 10ms/step - loss: 0.0064 - accuracy: 0.9984 - val_loss: 0.1419 - val_accuracy: 0.9859\n",
      "Epoch 89/200\n",
      "469/469 [==============================] - 5s 10ms/step - loss: 0.0079 - accuracy: 0.9980 - val_loss: 0.1506 - val_accuracy: 0.9861\n",
      "Epoch 90/200\n",
      "469/469 [==============================] - 5s 10ms/step - loss: 0.0046 - accuracy: 0.9988 - val_loss: 0.1977 - val_accuracy: 0.9831\n",
      "Epoch 91/200\n",
      "469/469 [==============================] - 5s 10ms/step - loss: 0.0071 - accuracy: 0.9984 - val_loss: 0.1691 - val_accuracy: 0.9837\n",
      "Epoch 92/200\n",
      "469/469 [==============================] - 5s 10ms/step - loss: 0.0083 - accuracy: 0.9982 - val_loss: 0.1761 - val_accuracy: 0.9837\n",
      "Epoch 93/200\n",
      "469/469 [==============================] - 5s 10ms/step - loss: 0.0093 - accuracy: 0.9979 - val_loss: 0.1499 - val_accuracy: 0.9852\n",
      "Epoch 94/200\n",
      "469/469 [==============================] - 5s 10ms/step - loss: 0.0079 - accuracy: 0.9982 - val_loss: 0.1497 - val_accuracy: 0.9857\n",
      "Epoch 95/200\n",
      "469/469 [==============================] - 5s 10ms/step - loss: 0.0054 - accuracy: 0.9986 - val_loss: 0.1522 - val_accuracy: 0.9851\n",
      "Epoch 96/200\n",
      "469/469 [==============================] - 5s 10ms/step - loss: 0.0057 - accuracy: 0.9985 - val_loss: 0.1817 - val_accuracy: 0.9830\n",
      "Epoch 97/200\n",
      "469/469 [==============================] - 5s 10ms/step - loss: 0.0040 - accuracy: 0.9988 - val_loss: 0.1445 - val_accuracy: 0.9857\n",
      "Epoch 98/200\n",
      "469/469 [==============================] - 5s 10ms/step - loss: 0.0057 - accuracy: 0.9987 - val_loss: 0.1628 - val_accuracy: 0.9840\n",
      "Epoch 99/200\n",
      "469/469 [==============================] - 5s 10ms/step - loss: 0.0078 - accuracy: 0.9983 - val_loss: 0.1628 - val_accuracy: 0.9832\n",
      "Epoch 100/200\n",
      "469/469 [==============================] - 5s 10ms/step - loss: 0.0082 - accuracy: 0.9982 - val_loss: 0.1810 - val_accuracy: 0.9841\n",
      "Epoch 101/200\n",
      "469/469 [==============================] - 5s 10ms/step - loss: 0.0085 - accuracy: 0.9980 - val_loss: 0.1697 - val_accuracy: 0.9833\n",
      "Epoch 102/200\n",
      "469/469 [==============================] - 5s 10ms/step - loss: 0.0058 - accuracy: 0.9985 - val_loss: 0.1568 - val_accuracy: 0.9834\n",
      "Epoch 103/200\n",
      "469/469 [==============================] - 5s 10ms/step - loss: 0.0067 - accuracy: 0.9987 - val_loss: 0.1812 - val_accuracy: 0.9842\n",
      "Epoch 104/200\n",
      "469/469 [==============================] - 5s 10ms/step - loss: 0.0056 - accuracy: 0.9987 - val_loss: 0.1645 - val_accuracy: 0.9858\n",
      "Epoch 105/200\n",
      "469/469 [==============================] - 5s 10ms/step - loss: 0.0078 - accuracy: 0.9984 - val_loss: 0.1596 - val_accuracy: 0.9855\n",
      "Epoch 106/200\n",
      "469/469 [==============================] - 5s 10ms/step - loss: 0.0064 - accuracy: 0.9985 - val_loss: 0.1799 - val_accuracy: 0.9843\n",
      "Epoch 107/200\n",
      "469/469 [==============================] - 5s 10ms/step - loss: 0.0078 - accuracy: 0.9983 - val_loss: 0.1679 - val_accuracy: 0.9842\n",
      "Epoch 108/200\n",
      "469/469 [==============================] - 5s 10ms/step - loss: 0.0078 - accuracy: 0.9984 - val_loss: 0.1709 - val_accuracy: 0.9837\n",
      "Epoch 109/200\n",
      "469/469 [==============================] - 5s 10ms/step - loss: 0.0055 - accuracy: 0.9986 - val_loss: 0.1798 - val_accuracy: 0.9832\n",
      "Epoch 110/200\n",
      "469/469 [==============================] - 5s 10ms/step - loss: 0.0079 - accuracy: 0.9984 - val_loss: 0.1536 - val_accuracy: 0.9852\n",
      "Epoch 111/200\n",
      "469/469 [==============================] - 5s 10ms/step - loss: 0.0070 - accuracy: 0.9985 - val_loss: 0.1553 - val_accuracy: 0.9847\n",
      "Epoch 112/200\n",
      "469/469 [==============================] - 5s 10ms/step - loss: 0.0038 - accuracy: 0.9991 - val_loss: 0.1501 - val_accuracy: 0.9858\n",
      "Epoch 113/200\n",
      "469/469 [==============================] - 5s 10ms/step - loss: 0.0051 - accuracy: 0.9988 - val_loss: 0.1868 - val_accuracy: 0.9838\n",
      "Epoch 114/200\n",
      "469/469 [==============================] - 5s 10ms/step - loss: 0.0057 - accuracy: 0.9987 - val_loss: 0.1792 - val_accuracy: 0.9845\n",
      "Epoch 115/200\n",
      "469/469 [==============================] - 5s 10ms/step - loss: 0.0082 - accuracy: 0.9982 - val_loss: 0.1828 - val_accuracy: 0.9845\n",
      "Epoch 116/200\n",
      "469/469 [==============================] - 5s 10ms/step - loss: 0.0079 - accuracy: 0.9983 - val_loss: 0.1758 - val_accuracy: 0.9849\n",
      "Epoch 117/200\n",
      "469/469 [==============================] - 5s 10ms/step - loss: 0.0080 - accuracy: 0.9986 - val_loss: 0.1678 - val_accuracy: 0.9859\n",
      "Epoch 118/200\n",
      "469/469 [==============================] - 5s 10ms/step - loss: 0.0056 - accuracy: 0.9988 - val_loss: 0.1766 - val_accuracy: 0.9851\n",
      "Epoch 119/200\n",
      "469/469 [==============================] - 5s 10ms/step - loss: 0.0052 - accuracy: 0.9989 - val_loss: 0.1808 - val_accuracy: 0.9856\n",
      "Epoch 120/200\n",
      "469/469 [==============================] - 5s 10ms/step - loss: 0.0081 - accuracy: 0.9984 - val_loss: 0.1938 - val_accuracy: 0.9851\n",
      "Epoch 121/200\n",
      "469/469 [==============================] - 5s 10ms/step - loss: 0.0080 - accuracy: 0.9985 - val_loss: 0.1702 - val_accuracy: 0.9864\n",
      "Epoch 122/200\n",
      "469/469 [==============================] - 5s 10ms/step - loss: 0.0060 - accuracy: 0.9988 - val_loss: 0.1786 - val_accuracy: 0.9852\n",
      "Epoch 123/200\n",
      "469/469 [==============================] - 5s 10ms/step - loss: 0.0042 - accuracy: 0.9991 - val_loss: 0.2020 - val_accuracy: 0.9831\n",
      "Epoch 124/200\n",
      "469/469 [==============================] - 5s 10ms/step - loss: 0.0076 - accuracy: 0.9984 - val_loss: 0.2155 - val_accuracy: 0.9833\n",
      "Epoch 125/200\n",
      "469/469 [==============================] - 5s 10ms/step - loss: 0.0092 - accuracy: 0.9984 - val_loss: 0.1906 - val_accuracy: 0.9861\n",
      "Epoch 126/200\n",
      "469/469 [==============================] - 5s 10ms/step - loss: 0.0069 - accuracy: 0.9983 - val_loss: 0.2217 - val_accuracy: 0.9837\n",
      "Epoch 127/200\n",
      "469/469 [==============================] - 5s 10ms/step - loss: 0.0073 - accuracy: 0.9986 - val_loss: 0.1997 - val_accuracy: 0.9837\n",
      "Epoch 128/200\n",
      "469/469 [==============================] - 5s 10ms/step - loss: 0.0042 - accuracy: 0.9991 - val_loss: 0.2277 - val_accuracy: 0.9842\n",
      "Epoch 129/200\n",
      "469/469 [==============================] - 5s 10ms/step - loss: 0.0054 - accuracy: 0.9990 - val_loss: 0.2130 - val_accuracy: 0.9849\n",
      "Epoch 130/200\n",
      "469/469 [==============================] - 5s 10ms/step - loss: 0.0066 - accuracy: 0.9988 - val_loss: 0.2068 - val_accuracy: 0.9847\n",
      "Epoch 131/200\n",
      "469/469 [==============================] - 5s 10ms/step - loss: 0.0069 - accuracy: 0.9988 - val_loss: 0.2348 - val_accuracy: 0.9833\n",
      "Epoch 132/200\n",
      "469/469 [==============================] - 5s 10ms/step - loss: 0.0065 - accuracy: 0.9987 - val_loss: 0.1971 - val_accuracy: 0.9855\n",
      "Epoch 133/200\n",
      "469/469 [==============================] - 5s 10ms/step - loss: 0.0060 - accuracy: 0.9989 - val_loss: 0.2225 - val_accuracy: 0.9830\n",
      "Epoch 134/200\n",
      "469/469 [==============================] - 5s 10ms/step - loss: 0.0054 - accuracy: 0.9988 - val_loss: 0.2174 - val_accuracy: 0.9832\n",
      "Epoch 135/200\n",
      "469/469 [==============================] - 5s 10ms/step - loss: 0.0050 - accuracy: 0.9989 - val_loss: 0.2230 - val_accuracy: 0.9833\n",
      "Epoch 136/200\n",
      "469/469 [==============================] - 5s 10ms/step - loss: 0.0055 - accuracy: 0.9988 - val_loss: 0.2075 - val_accuracy: 0.9857\n",
      "Epoch 137/200\n",
      "469/469 [==============================] - 5s 10ms/step - loss: 0.0071 - accuracy: 0.9988 - val_loss: 0.2144 - val_accuracy: 0.9846\n",
      "Epoch 138/200\n",
      "469/469 [==============================] - 5s 10ms/step - loss: 0.0074 - accuracy: 0.9986 - val_loss: 0.2194 - val_accuracy: 0.9841\n",
      "Epoch 139/200\n",
      "469/469 [==============================] - 5s 10ms/step - loss: 0.0080 - accuracy: 0.9985 - val_loss: 0.2224 - val_accuracy: 0.9854\n",
      "Epoch 140/200\n",
      "469/469 [==============================] - 5s 10ms/step - loss: 0.0081 - accuracy: 0.9986 - val_loss: 0.2170 - val_accuracy: 0.9854\n",
      "Epoch 141/200\n",
      "469/469 [==============================] - 5s 10ms/step - loss: 0.0075 - accuracy: 0.9985 - val_loss: 0.2289 - val_accuracy: 0.9859\n",
      "Epoch 142/200\n",
      "469/469 [==============================] - 5s 10ms/step - loss: 0.0050 - accuracy: 0.9990 - val_loss: 0.2076 - val_accuracy: 0.9850\n",
      "Epoch 143/200\n",
      "469/469 [==============================] - 5s 10ms/step - loss: 0.0057 - accuracy: 0.9989 - val_loss: 0.2259 - val_accuracy: 0.9856\n",
      "Epoch 144/200\n",
      "469/469 [==============================] - 5s 10ms/step - loss: 0.0068 - accuracy: 0.9987 - val_loss: 0.2416 - val_accuracy: 0.9848\n",
      "Epoch 145/200\n",
      "469/469 [==============================] - 5s 10ms/step - loss: 0.0085 - accuracy: 0.9986 - val_loss: 0.2244 - val_accuracy: 0.9854\n",
      "Epoch 146/200\n",
      "469/469 [==============================] - 5s 10ms/step - loss: 0.0071 - accuracy: 0.9987 - val_loss: 0.2211 - val_accuracy: 0.9857\n",
      "Epoch 147/200\n",
      "469/469 [==============================] - 5s 10ms/step - loss: 0.0055 - accuracy: 0.9988 - val_loss: 0.2308 - val_accuracy: 0.9853\n",
      "Epoch 148/200\n",
      "469/469 [==============================] - 5s 10ms/step - loss: 0.0044 - accuracy: 0.9993 - val_loss: 0.2274 - val_accuracy: 0.9852\n",
      "Epoch 149/200\n",
      "469/469 [==============================] - 5s 10ms/step - loss: 0.0054 - accuracy: 0.9991 - val_loss: 0.2342 - val_accuracy: 0.9841\n",
      "Epoch 150/200\n",
      "469/469 [==============================] - 5s 10ms/step - loss: 0.0049 - accuracy: 0.9991 - val_loss: 0.2104 - val_accuracy: 0.9862\n",
      "Epoch 151/200\n",
      "469/469 [==============================] - 5s 10ms/step - loss: 0.0047 - accuracy: 0.9991 - val_loss: 0.2881 - val_accuracy: 0.9809\n",
      "Epoch 152/200\n",
      "469/469 [==============================] - 5s 10ms/step - loss: 0.0105 - accuracy: 0.9981 - val_loss: 0.2473 - val_accuracy: 0.9843\n",
      "Epoch 153/200\n",
      "469/469 [==============================] - 5s 10ms/step - loss: 0.0080 - accuracy: 0.9985 - val_loss: 0.2362 - val_accuracy: 0.9845\n",
      "Epoch 154/200\n",
      "469/469 [==============================] - 5s 10ms/step - loss: 0.0077 - accuracy: 0.9985 - val_loss: 0.2718 - val_accuracy: 0.9845\n",
      "Epoch 155/200\n",
      "469/469 [==============================] - 5s 10ms/step - loss: 0.0069 - accuracy: 0.9987 - val_loss: 0.2684 - val_accuracy: 0.9845\n",
      "Epoch 156/200\n",
      "469/469 [==============================] - 5s 10ms/step - loss: 0.0087 - accuracy: 0.9988 - val_loss: 0.2446 - val_accuracy: 0.9835\n",
      "Epoch 157/200\n",
      "469/469 [==============================] - 5s 10ms/step - loss: 0.0056 - accuracy: 0.9992 - val_loss: 0.2270 - val_accuracy: 0.9859\n",
      "Epoch 158/200\n",
      "469/469 [==============================] - 5s 10ms/step - loss: 0.0038 - accuracy: 0.9991 - val_loss: 0.2515 - val_accuracy: 0.9847\n",
      "Epoch 159/200\n",
      "469/469 [==============================] - 5s 10ms/step - loss: 0.0089 - accuracy: 0.9988 - val_loss: 0.2535 - val_accuracy: 0.9840\n",
      "Epoch 160/200\n",
      "469/469 [==============================] - 5s 10ms/step - loss: 0.0092 - accuracy: 0.9986 - val_loss: 0.2448 - val_accuracy: 0.9860\n",
      "Epoch 161/200\n",
      "469/469 [==============================] - 5s 10ms/step - loss: 0.0067 - accuracy: 0.9987 - val_loss: 0.2333 - val_accuracy: 0.9855\n",
      "Epoch 162/200\n",
      "469/469 [==============================] - 5s 10ms/step - loss: 0.0057 - accuracy: 0.9990 - val_loss: 0.2747 - val_accuracy: 0.9850\n",
      "Epoch 163/200\n",
      "469/469 [==============================] - 5s 10ms/step - loss: 0.0042 - accuracy: 0.9991 - val_loss: 0.2600 - val_accuracy: 0.9849\n",
      "Epoch 164/200\n",
      "469/469 [==============================] - 5s 10ms/step - loss: 0.0058 - accuracy: 0.9989 - val_loss: 0.2799 - val_accuracy: 0.9854\n",
      "Epoch 165/200\n",
      "469/469 [==============================] - 5s 10ms/step - loss: 0.0078 - accuracy: 0.9986 - val_loss: 0.2539 - val_accuracy: 0.9855\n",
      "Epoch 166/200\n",
      "469/469 [==============================] - 5s 10ms/step - loss: 0.0057 - accuracy: 0.9989 - val_loss: 0.2723 - val_accuracy: 0.9849\n",
      "Epoch 167/200\n",
      "469/469 [==============================] - 5s 10ms/step - loss: 0.0050 - accuracy: 0.9989 - val_loss: 0.2661 - val_accuracy: 0.9850\n",
      "Epoch 168/200\n",
      "469/469 [==============================] - 5s 10ms/step - loss: 0.0075 - accuracy: 0.9988 - val_loss: 0.2558 - val_accuracy: 0.9860\n",
      "Epoch 169/200\n",
      "469/469 [==============================] - 5s 10ms/step - loss: 0.0061 - accuracy: 0.9991 - val_loss: 0.2432 - val_accuracy: 0.9852\n",
      "Epoch 170/200\n",
      "469/469 [==============================] - 5s 10ms/step - loss: 0.0077 - accuracy: 0.9987 - val_loss: 0.2490 - val_accuracy: 0.9857\n",
      "Epoch 171/200\n",
      "469/469 [==============================] - 5s 10ms/step - loss: 0.0045 - accuracy: 0.9991 - val_loss: 0.2376 - val_accuracy: 0.9855\n",
      "Epoch 172/200\n",
      "469/469 [==============================] - 5s 10ms/step - loss: 0.0064 - accuracy: 0.9991 - val_loss: 0.2348 - val_accuracy: 0.9849\n",
      "Epoch 173/200\n",
      "469/469 [==============================] - 5s 10ms/step - loss: 0.0043 - accuracy: 0.9991 - val_loss: 0.2690 - val_accuracy: 0.9849\n",
      "Epoch 174/200\n",
      "469/469 [==============================] - 5s 10ms/step - loss: 0.0084 - accuracy: 0.9987 - val_loss: 0.2489 - val_accuracy: 0.9849\n",
      "Epoch 175/200\n",
      "469/469 [==============================] - 5s 10ms/step - loss: 0.0072 - accuracy: 0.9988 - val_loss: 0.2659 - val_accuracy: 0.9841\n",
      "Epoch 176/200\n",
      "469/469 [==============================] - 5s 10ms/step - loss: 0.0057 - accuracy: 0.9991 - val_loss: 0.2485 - val_accuracy: 0.9852\n",
      "Epoch 177/200\n",
      "469/469 [==============================] - 5s 10ms/step - loss: 0.0054 - accuracy: 0.9990 - val_loss: 0.2655 - val_accuracy: 0.9847\n",
      "Epoch 178/200\n",
      "469/469 [==============================] - 5s 10ms/step - loss: 0.0067 - accuracy: 0.9989 - val_loss: 0.2679 - val_accuracy: 0.9848\n",
      "Epoch 179/200\n",
      "469/469 [==============================] - 5s 10ms/step - loss: 0.0073 - accuracy: 0.9990 - val_loss: 0.2687 - val_accuracy: 0.9855\n",
      "Epoch 180/200\n",
      "469/469 [==============================] - 5s 10ms/step - loss: 0.0048 - accuracy: 0.9990 - val_loss: 0.2740 - val_accuracy: 0.9847\n",
      "Epoch 181/200\n",
      "469/469 [==============================] - 5s 10ms/step - loss: 0.0058 - accuracy: 0.9988 - val_loss: 0.2670 - val_accuracy: 0.9850\n",
      "Epoch 182/200\n",
      "469/469 [==============================] - 5s 10ms/step - loss: 0.0069 - accuracy: 0.9989 - val_loss: 0.2738 - val_accuracy: 0.9860\n",
      "Epoch 183/200\n",
      "469/469 [==============================] - 5s 10ms/step - loss: 0.0058 - accuracy: 0.9991 - val_loss: 0.2495 - val_accuracy: 0.9863\n",
      "Epoch 184/200\n",
      "469/469 [==============================] - 5s 10ms/step - loss: 0.0072 - accuracy: 0.9988 - val_loss: 0.2877 - val_accuracy: 0.9853\n",
      "Epoch 185/200\n",
      "469/469 [==============================] - 5s 10ms/step - loss: 0.0059 - accuracy: 0.9991 - val_loss: 0.2697 - val_accuracy: 0.9861\n",
      "Epoch 186/200\n",
      "469/469 [==============================] - 5s 10ms/step - loss: 0.0043 - accuracy: 0.9992 - val_loss: 0.2634 - val_accuracy: 0.9864\n",
      "Epoch 187/200\n",
      "469/469 [==============================] - 5s 10ms/step - loss: 0.0063 - accuracy: 0.9990 - val_loss: 0.2499 - val_accuracy: 0.9851\n",
      "Epoch 188/200\n",
      "469/469 [==============================] - 5s 10ms/step - loss: 0.0108 - accuracy: 0.9986 - val_loss: 0.2712 - val_accuracy: 0.9845\n",
      "Epoch 189/200\n",
      "469/469 [==============================] - 5s 10ms/step - loss: 0.0085 - accuracy: 0.9987 - val_loss: 0.2537 - val_accuracy: 0.9854\n",
      "Epoch 190/200\n",
      "469/469 [==============================] - 5s 10ms/step - loss: 0.0058 - accuracy: 0.9990 - val_loss: 0.2700 - val_accuracy: 0.9843\n",
      "Epoch 191/200\n",
      "469/469 [==============================] - 5s 10ms/step - loss: 0.0065 - accuracy: 0.9990 - val_loss: 0.2776 - val_accuracy: 0.9842\n",
      "Epoch 192/200\n",
      "469/469 [==============================] - 5s 10ms/step - loss: 0.0063 - accuracy: 0.9989 - val_loss: 0.2671 - val_accuracy: 0.9844\n",
      "Epoch 193/200\n",
      "469/469 [==============================] - 5s 10ms/step - loss: 0.0036 - accuracy: 0.9994 - val_loss: 0.2515 - val_accuracy: 0.9862\n",
      "Epoch 194/200\n",
      "469/469 [==============================] - 5s 10ms/step - loss: 0.0043 - accuracy: 0.9992 - val_loss: 0.2968 - val_accuracy: 0.9843\n",
      "Epoch 195/200\n",
      "469/469 [==============================] - 5s 10ms/step - loss: 0.0119 - accuracy: 0.9985 - val_loss: 0.3083 - val_accuracy: 0.9849\n",
      "Epoch 196/200\n",
      "469/469 [==============================] - 5s 10ms/step - loss: 0.0055 - accuracy: 0.9992 - val_loss: 0.2957 - val_accuracy: 0.9851\n",
      "Epoch 197/200\n",
      "469/469 [==============================] - 5s 10ms/step - loss: 0.0040 - accuracy: 0.9992 - val_loss: 0.2708 - val_accuracy: 0.9861\n",
      "Epoch 198/200\n",
      "469/469 [==============================] - 5s 10ms/step - loss: 0.0052 - accuracy: 0.9992 - val_loss: 0.3140 - val_accuracy: 0.9851\n",
      "Epoch 199/200\n",
      "469/469 [==============================] - 5s 10ms/step - loss: 0.0075 - accuracy: 0.9989 - val_loss: 0.2865 - val_accuracy: 0.9855\n",
      "Epoch 200/200\n",
      "469/469 [==============================] - 5s 10ms/step - loss: 0.0051 - accuracy: 0.9992 - val_loss: 0.2935 - val_accuracy: 0.9866\n"
     ]
    },
    {
     "data": {
      "text/plain": [
       "<keras.src.callbacks.History at 0x28c9b3190>"
      ]
     },
     "execution_count": 17,
     "metadata": {},
     "output_type": "execute_result"
    }
   ],
   "source": [
    "model.fit(X_train, Y_train, batch_size=128, epochs=200, verbose=1, validation_data=(X_test, Y_test))"
   ]
  },
  {
   "cell_type": "code",
   "execution_count": 21,
   "metadata": {},
   "outputs": [
    {
     "name": "stdout",
     "output_type": "stream",
     "text": [
      "Test score: 0.29346540570259094\n",
      "Test accuracy: 0.9866000413894653\n"
     ]
    }
   ],
   "source": [
    "score = model.evaluate(X_test, Y_test, verbose=0)\n",
    "print('Test score:', score[0])\n",
    "print('Test accuracy:', score[1])"
   ]
  },
  {
   "cell_type": "code",
   "execution_count": 28,
   "metadata": {},
   "outputs": [
    {
     "name": "stdout",
     "output_type": "stream",
     "text": [
      "313/313 [==============================] - 1s 2ms/step\n"
     ]
    },
    {
     "name": "stderr",
     "output_type": "stream",
     "text": [
      "/var/folders/21/kkr6yltn3wq_b1bnsqgv3y580000gn/T/ipykernel_84101/221022119.py:2: DeprecationWarning: elementwise comparison failed; this will raise an error in the future.\n",
      "  correct_indices = np.nonzero(predicted_classes == y_test)[0]\n",
      "/var/folders/21/kkr6yltn3wq_b1bnsqgv3y580000gn/T/ipykernel_84101/221022119.py:3: DeprecationWarning: elementwise comparison failed; this will raise an error in the future.\n",
      "  incorrect_indices = np.nonzero(predicted_classes != y_test)[0]\n"
     ]
    }
   ],
   "source": [
    "predicted_classes = (model.predict(X_test)).astype(\"int32\")\n",
    "correct_indices = np.nonzero(predicted_classes == y_test)[0]\n",
    "incorrect_indices = np.nonzero(predicted_classes != y_test)[0]"
   ]
  },
  {
   "cell_type": "code",
   "execution_count": 29,
   "metadata": {},
   "outputs": [
    {
     "name": "stdout",
     "output_type": "stream",
     "text": [
      "Prediction:  [0 0 0 0 0 0 0 1 0 0]\n",
      "Label:  7\n"
     ]
    },
    {
     "data": {
      "image/png": "[encoded data removed]",
      "text/plain": [
       "<Figure size 640x480 with 1 Axes>"
      ]
     },
     "metadata": {},
     "output_type": "display_data"
    }
   ],
   "source": [
    "# plt.figure()\n",
    "# for i, incorrect in enumerate(correct_indices[:9]):\n",
    "#     plt.subplot(3,3,i+1)\n",
    "#     plt.gray()\n",
    "#     plt.imshow(X_test[incorrect].reshape(28,28), interpolation='nearest')\n",
    "#     print(\"Prediction: \", predicted_classes[incorrect])\n",
    "#     print(\"Label: \", y_test[incorrect])\n",
    "\n",
    "plt.figure()\n",
    "\n",
    "for i, incorrect in enumerate(incorrect_indices[:9]):\n",
    "    plt.subplot(3,3,i+1)\n",
    "    plt.gray()\n",
    "    plt.imshow(X_test[incorrect].reshape(28,28), interpolation='nearest')\n",
    "    print(\"Prediction: \", predicted_classes[incorrect])\n",
    "    print(\"Label: \", y_test[incorrect])"
   ]
  }
 ],
 "metadata": {
  "kernelspec": {
   "display_name": "Python 3",
   "language": "python",
   "name": "python3"
  },
  "language_info": {
   "codemirror_mode": {
    "name": "ipython",
    "version": 3
   },
   "file_extension": ".py",
   "mimetype": "text/x-python",
   "name": "python",
   "nbconvert_exporter": "python",
   "pygments_lexer": "ipython3",
   "version": "3.10.6"
  },
  "papermill": {
   "duration": 55.320944,
   "end_time": "2020-11-24T15:34:35.258832",
   "environment_variables": {},
   "exception": null,
   "input_path": "__notebook__.ipynb",
   "output_path": "__notebook__.ipynb",
   "parameters": {},
   "start_time": "2020-11-24T15:33:39.937888",
   "version": "2.1.0"
  }
 },
 "nbformat": 4,
 "nbformat_minor": 4
}
